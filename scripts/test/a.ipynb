{
 "cells": [
  {
   "cell_type": "code",
   "execution_count": 195,
   "metadata": {},
   "outputs": [],
   "source": [
    "\n",
    "temp = df.to_numpy()"
   ]
  },
  {
   "cell_type": "code",
   "execution_count": 278,
   "metadata": {},
   "outputs": [],
   "source": [
    "v_names = [temp[i][0] for i in range(3)]\n",
    "v_prob = [temp[i][2] for i in range(3)]\n",
    "\n",
    "first = re.findall(\"(.+)\\*\", v_names[0])\n",
    "if re.findall(\"(.+)\\*\", v_names[1]) == first: \n",
    "    v_names[1] = v_names[1].replace(first[0], \"\")\n",
    "    if re.findall(\"(.+)\\*\", v_names[2]) == first:\n",
    "        v_names[2] = v_names[2].replace(first[0], \"\")\n",
    "\n",
    "v_names = re.sub('[IGHVDJ\\[\\]\\'\\\",]', \"\", str(v_names))\n",
    "v_prob = re.sub('[IGHVDJ\\[\\]\\'\\\",]', \"\", str(v_prob))\n",
    "\n"
   ]
  },
  {
   "cell_type": "code",
   "execution_count": 279,
   "metadata": {},
   "outputs": [],
   "source": [
    "d_names = [temp[i][0] for i in range(3,6)]\n",
    "d_prob = [temp[i][2] for i in range(3,6)]\n",
    "\n",
    "first = re.findall(\"(.+)\\*\", d_names[0])\n",
    "if re.findall(\"(.+)\\*\", d_names[1]) == first: \n",
    "    d_names[1] = d_names[1].replace(first[0], \"\")\n",
    "    if re.findall(\"(.+)\\*\", d_names[2]) == first:\n",
    "        d_names[2] = d_names[2].replace(first[0], \"\")\n",
    "\n",
    "d_names = re.sub('[IGHVDJ\\[\\]\\'\\\",]', \"\", str(d_names))\n",
    "d_prob = re.sub('[IGHVDJ\\[\\]\\'\\\",]', \"\", str(d_prob))"
   ]
  },
  {
   "cell_type": "code",
   "execution_count": 280,
   "metadata": {},
   "outputs": [],
   "source": [
    "j_names = [temp[i][0] for i in range(6,9)]\n",
    "j_prob = [temp[i][2] for i in range(6,9)]\n",
    "\n",
    "first = re.findall(\"(.+)\\*\", j_names[0])\n",
    "if re.findall(\"(.+)\\*\", j_names[1]) == first: \n",
    "    j_names[1] = j_names[1].replace(first[0], \"\")\n",
    "    if re.findall(\"(.+)\\*\", j_names[2]) == first:\n",
    "        j_names[2] = j_names[2].replace(first[0], \"\")\n",
    "\n",
    "j_names = re.sub('[IGHVDJ\\[\\]\\'\\\",]', \"\", str(j_names))\n",
    "j_prob = re.sub('[IGHVDJ\\[\\]\\'\\\",]', \"\", str(j_prob))"
   ]
  },
  {
   "cell_type": "code",
   "execution_count": 297,
   "metadata": {},
   "outputs": [],
   "source": [
    "v_len = [len(_) for _ in v_names.split()]\n",
    "d_len = [len(_) for _ in d_names.split()]\n",
    "j_len = [len(_) for _ in j_names.split()]\n",
    "lens = np.array([v_len, d_len, j_len])\n",
    "lens = np.amax(lens, 0)\n",
    "v1, v2, v3 = v_names.split()\n",
    "d1, d2, d3 = d_names.split()\n",
    "j1, j2, j3 = j_names.split()"
   ]
  },
  {
   "cell_type": "code",
   "execution_count": 283,
   "metadata": {},
   "outputs": [],
   "source": [
    "v_len = [len(_) for _ in v_prob.split()]\n",
    "d_len = [len(_) for _ in d_prob.split()]\n",
    "j_len = [len(_) for _ in j_prob.split()]\n",
    "lens = np.array([v_len, d_len, j_len])\n",
    "lens_prob = np.amax(lens, 0)\n",
    "v1_prob, v2_prob, v3_prob = v_prob.split()\n",
    "d1_prob, d2_prob, d3_prob = d_prob.split()\n",
    "j1_prob, j2_prob, j3_prob = j_prob.split()"
   ]
  },
  {
   "cell_type": "code",
   "execution_count": 306,
   "metadata": {},
   "outputs": [
    {
     "name": "stdout",
     "output_type": "stream",
     "text": [
      "                                   E\n",
      "IGHV  |  1-18*01  *03  *04      |  1e-120  9e-120  9e-120\n",
      "IGHD  |  3-10*01  *02  3-16*01  |  0.13    1.9     27    \n",
      "IGHJ  |  6*02     *01  *04      |  3e-27   4e-26   4e-26 \n"
     ]
    }
   ],
   "source": [
    "print(f\"{a:<7}{a:<{8+lens.sum()}}   E\")\n",
    "print(f\"IGHV  |  {v1:<{lens[0]}}  {v2:<{lens[1]}}  {v3:<{lens[2]}}  |  {v1_prob:<{lens_prob[0]}}  {v2_prob:<{lens_prob[1]}}  {v3_prob:<{lens_prob[2]}}\")\n",
    "print(f\"IGHD  |  {d1:<{lens[0]}}  {d2:<{lens[1]}}  {d3:<{lens[2]}}  |  {d1_prob:<{lens_prob[0]}}  {d2_prob:<{lens_prob[1]}}  {d3_prob:<{lens_prob[2]}}\")\n",
    "print(f\"IGHJ  |  {j1:<{lens[0]}}  {j2:<{lens[1]}}  {j3:<{lens[2]}}  |  {j1_prob:<{lens_prob[0]}}  {j2_prob:<{lens_prob[1]}}  {j3_prob:<{lens_prob[2]}}\")"
   ]
  },
  {
   "cell_type": "code",
   "execution_count": 383,
   "metadata": {},
   "outputs": [
    {
     "name": "stdout",
     "output_type": "stream",
     "text": [
      "IGHV  a\n"
     ]
    }
   ],
   "source": [
    "print(f\"{'IGHV':<6}a\")"
   ]
  },
  {
   "cell_type": "code",
   "execution_count": 385,
   "metadata": {},
   "outputs": [],
   "source": [
    "id_len = len('asdjkabknsd')"
   ]
  },
  {
   "cell_type": "code",
   "execution_count": 388,
   "metadata": {},
   "outputs": [],
   "source": [
    "b = \"\"\"Sequences producing significant alignments:                                                          (Bits)  Value\n",
    "\n",
    "IGHV3-30*03                                                                                           363     2e-102\n",
    "IGHV3-30*18                                                                                           363     2e-102\n",
    "IGHV3-30-5*01                                                                                         363     2e-102\n",
    "IGHD4-11*01                                                                                           12.2    45\n",
    "IGHD4-4*01                                                                                            12.2    45\n",
    "IGHD3-10*01                                                                                           10.3    172\n",
    "IGHJ4*02                                                                                              64.1    2e-14\n",
    "IGHJ4*03                                                                                              62.2    7e-14\n",
    "IGHJ4*01                                                                                              58.4    1e-12\n",
    "\n",
    "\n",
    "Domain classification requested: imgt\n",
    "\"\"\""
   ]
  },
  {
   "cell_type": "code",
   "execution_count": 392,
   "metadata": {},
   "outputs": [],
   "source": [
    "genes = re.findall(\"Value([\\S\\s]+)Domain\", b)[0]\n",
    "genes = genes.split(\"\\n\")\n",
    "genes = [_ for _ in genes if _ != '']\n",
    "genes = [_.split() for _ in genes]\n",
    "df = pd.DataFrame(genes)\n",
    "temp = df.to_numpy()\n"
   ]
  },
  {
   "cell_type": "code",
   "execution_count": 401,
   "metadata": {},
   "outputs": [
    {
     "name": "stdout",
     "output_type": "stream",
     "text": [
      "IGHV3-30*03\n",
      "IGHV3-30*18\n",
      "IGHV3-30-5*01\n",
      "IGHD4-11*01\n",
      "IGHD4-4*01\n",
      "IGHD3-10*01\n",
      "IGHJ4*02\n",
      "IGHJ4*03\n",
      "IGHJ4*01\n"
     ]
    }
   ],
   "source": [
    "for count, line in enumerate(temp):\n",
    "    if \"V\" in line[0]:\n",
    "        v_names.append(temp[count][0])\n",
    "    elif \"D\" in line[0]:\n",
    "        d_names.append(temp[count][0])\n",
    "    else:\n",
    "        j_names.append(temp[count][0])\n"
   ]
  },
  {
   "cell_type": "code",
   "execution_count": 402,
   "metadata": {},
   "outputs": [
    {
     "data": {
      "text/plain": [
       "array([['IGHV3-30*03', '363', '2e-102'],\n",
       "       ['IGHV3-30*18', '363', '2e-102'],\n",
       "       ['IGHV3-30-5*01', '363', '2e-102'],\n",
       "       ['IGHD4-11*01', '12.2', '45'],\n",
       "       ['IGHD4-4*01', '12.2', '45'],\n",
       "       ['IGHD3-10*01', '10.3', '172'],\n",
       "       ['IGHJ4*02', '64.1', '2e-14'],\n",
       "       ['IGHJ4*03', '62.2', '7e-14'],\n",
       "       ['IGHJ4*01', '58.4', '1e-12']], dtype=object)"
      ]
     },
     "execution_count": 402,
     "metadata": {},
     "output_type": "execute_result"
    }
   ],
   "source": [
    "temp"
   ]
  },
  {
   "cell_type": "code",
   "execution_count": 395,
   "metadata": {},
   "outputs": [
    {
     "data": {
      "text/plain": [
       "['IGHV3-30*03', 'IGHV3-30*18', 'IGHV3-30-5*01']"
      ]
     },
     "execution_count": 395,
     "metadata": {},
     "output_type": "execute_result"
    }
   ],
   "source": [
    "v_names = [temp[i][0] for i in range(3)]\n",
    "v_prob = [temp[i][2] for i in range(3)]\n",
    "v_names"
   ]
  },
  {
   "cell_type": "code",
   "execution_count": 294,
   "metadata": {},
   "outputs": [
    {
     "name": "stdout",
     "output_type": "stream",
     "text": [
      "             0     1       2\n",
      "0  IGHV1-18*01   425  1e-120\n",
      "1  IGHV1-18*03   422  1e-119\n",
      "2  IGHV1-18*04   422  1e-119\n",
      "3  IGHD3-10*01  21.8    0.14\n",
      "4  IGHD3-10*02  18.0     2.0\n",
      "5  IGHD3-16*01  14.1      28\n",
      "6     IGHJ6*02   109   1e-27\n",
      "7     IGHJ6*01   105   2e-26\n",
      "8     IGHJ6*04   105   2e-26\n",
      "             0     1       2\n",
      "0  IGHV1-18*01   425  1e-120\n",
      "1  IGHV1-18*03   422  9e-120\n",
      "2  IGHV1-18*04   422  9e-120\n",
      "3  IGHD3-10*01  21.8    0.14\n",
      "4  IGHD3-10*02  18.0     2.0\n",
      "5  IGHD3-16*01  14.1      28\n",
      "6     IGHJ6*02   109   1e-27\n",
      "7     IGHJ6*01   105   2e-26\n",
      "8     IGHJ6*04   105   2e-26\n",
      "             0     1       2\n",
      "0  IGHV1-18*01   425  1e-120\n",
      "1  IGHV1-18*03   422  9e-120\n",
      "2  IGHV1-18*04   422  9e-120\n",
      "3  IGHD3-10*01  21.8    0.13\n",
      "4  IGHD3-10*02  18.0     1.9\n",
      "5  IGHD3-16*01  14.1      27\n",
      "6     IGHJ6*02   107   3e-27\n",
      "7     IGHJ6*01   104   4e-26\n",
      "8     IGHJ6*04   104   4e-26\n"
     ]
    }
   ],
   "source": [
    "cmd = f\"bin/igblastn -germline_db_V database/IGV -germline_db_J database/IGJ -germline_db_D database/IGD -organism human -query myseq/myseq.fasta -show_translation\"\n",
    "output = subprocess.run(cmd, shell=True, capture_output=True, text=True, cwd=f\"{pathlib.Path.home()}/igblast/\")\n",
    "\n",
    "sequences = output.stdout.split(\"Query=\")[1:]\n",
    "for chunk in sequences:\n",
    "    genes = re.findall(\"Value([\\S\\s]+)Domain\", chunk)[0]\n",
    "    genes = genes.split(\"\\n\")\n",
    "    genes = [_ for _ in genes if _ != '']\n",
    "    genes = [_.split() for _ in genes]\n",
    "    df = pd.DataFrame(genes)"
   ]
  },
  {
   "cell_type": "code",
   "execution_count": null,
   "metadata": {},
   "outputs": [],
   "source": []
  },
  {
   "cell_type": "code",
   "execution_count": 18,
   "metadata": {},
   "outputs": [],
   "source": [
    "import re\n",
    "import numpy as np\n",
    "import os\n",
    "import subprocess\n",
    "import pandas as pd\n",
    "import pathlib"
   ]
  },
  {
   "cell_type": "code",
   "execution_count": 325,
   "metadata": {},
   "outputs": [],
   "source": [
    "def expasy(seq):\n",
    "    cmd = f\"curl -s -d 'dna_sequence={seq}&output_format=fasta' https://web.expasy.org/cgi-bin/translate/dna2aa.cgi\"\n",
    "    output = subprocess.run(cmd, shell=True, capture_output=True, text=True)\n",
    "    temp = output.stdout.split(\"\\n\")\n",
    "    temp = [_.rstrip() for _ in temp]\n",
    "    temp = [f\"\\n{_}\\n\" if \">\" in _ else _ for _ in temp ]\n",
    "    temp[0] = temp[0].replace(\"\\n\", \"\", 1)\n",
    "    temp[-1] += \"\\n\"\n",
    "    temp = \"\".join(temp)\n",
    "\n",
    "    return temp"
   ]
  },
  {
   "cell_type": "code",
   "execution_count": 311,
   "metadata": {},
   "outputs": [],
   "source": [
    "cdr3seq = \"GCGAGAGTGGACCGATACTGTGGTGGTGATAGATGCATCTCCATGTGGTTCGCCCCC\"\n",
    "seq = \"SAGGTGCAGCTGGTGCAGTCTGGAGCAGAGGTGAAAAAGCCCGGGGAGTCTCTGAAGATCTCCTGTAAGGCTTCTGGATACAGCTTCACCAATTACTGGATCGCCTGGGTGCGCCAGATGCCCGGGAAAGGCCTGGAGTGGATGGGATTCATCTATCCTGGAGACTTTGATACCAGATACAACCCGTCCTTCCAAGGCCAGGTCACCATCTCAGCCGACAAGTCCATCAGCACCTCCTACCTGCAGTGGAGCAGCCTGAAGGCCTCGGACACCGCCATGTATTATTGTGCGAGAGTGGACCGATACTGTGGTGGTGATAGATGCATCTCCATGTGGTTCGCCCCCTGGGGCCAGGGAACCCAGGTCACCGTCTCCTCAG\""
   ]
  },
  {
   "cell_type": "code",
   "execution_count": 328,
   "metadata": {},
   "outputs": [],
   "source": [
    "fragment = expasy(cdr3seq)\n",
    "fragment = fragment.split(\"\\n\")[1::2]\n",
    "fragment = [x for x in fragment if \"-\" not in x]"
   ]
  },
  {
   "cell_type": "code",
   "execution_count": 331,
   "metadata": {},
   "outputs": [],
   "source": [
    "full = expasy(seq)\n",
    "full = full.split(\"\\n\")[1::2]\n"
   ]
  },
  {
   "cell_type": "code",
   "execution_count": 332,
   "metadata": {},
   "outputs": [
    {
     "data": {
      "text/plain": [
       "['LRRR-PGFPGPRGRTTWRCIYHHHSIGPLSHNNTWRCPRPSGCSTAGRRC-WTCRLRW-PGLGRTGCIWYQSLQDR-IPSTPGLSRASGAPRRSSNW-SCIQKPYRRSSETPRAFSPLLQTAPAAP',\n",
       " '-GDGDLGSLAPGGEPHGDASITTTVSVHSRTIIHGGVRGLQAAPLQVGGADGLVG-DGDLALEGRVVSGIKVSRIDESHPLQAFPGHLAHPGDPVIGEAVSRSLTGDLQRLPGLFHLCSRLHQLHX',\n",
       " 'EETVTWVPWPQGANHMEMHLSPPQYRSTLAQ-YMAVSEAFRLLHCR-EVLMDLSAEMVTWPWKDGLYLVSKSPG-MNPIHSRPFPGIWRTQAIQ-LVKLYPEALQEIFRDSPGFFTSAPDCTSCT',\n",
       " 'XVQLVQSGAEVKKPGESLKISCKASGYSFTNYWIAWVRQMPGKGLEWMGFIYPGDFDTRYNPSFQGQVTISADKSISTSYLQWSSLKASDTAMYYCARVDRYCGGDRCISMWFAPWGQGTQVTVSS',\n",
       " 'RCSWCSLEQR-KSPGSL-RSPVRLLDTASPITGSPGCARCPGKAWSGWDSSILETLIPDTTRPSKARSPSQPTSPSAPPTCSGAA-RPRTPPCIIVREWTDTVVVIDASPCGSPPGAREPRSPSPQ',\n",
       " 'GAAGAVWSRGEKARGVSEDLL-GFWIQLHQLLDRLGAPDARERPGVDGIHLSWRL-YQIQPVLPRPGHHLSRQVHQHLLPAVEQPEGLGHRHVLLCESGPILWW--MHLHVVRPLGPGNPGHRLL']"
      ]
     },
     "execution_count": 332,
     "metadata": {},
     "output_type": "execute_result"
    }
   ],
   "source": [
    "full"
   ]
  },
  {
   "cell_type": "code",
   "execution_count": 337,
   "metadata": {},
   "outputs": [
    {
     "data": {
      "text/plain": [
       "['AXXB']"
      ]
     },
     "execution_count": 337,
     "metadata": {},
     "output_type": "execute_result"
    }
   ],
   "source": [
    "re.findall(\"AXXB\", \"OAXXBO\")"
   ]
  },
  {
   "cell_type": "code",
   "execution_count": 339,
   "metadata": {},
   "outputs": [],
   "source": [
    "t = \"ARVDRYCGGDRCISMWFAP\"\n",
    "all = \"XVQLVQSGAEVKKPGESLKISCKASGYSFTNYWIAWVRQMPGKGLEWMGFIYPGDFDTRYNPSFQGQVTISADKSISTSYLQWSSLKASDTAMYYCARVDRYCGGDRCISMWFAPWGQGTQVTVSS\""
   ]
  },
  {
   "cell_type": "code",
   "execution_count": 346,
   "metadata": {},
   "outputs": [],
   "source": [
    "a, b = re.findall(f\"(.+){t}(.+)\",all)[0]"
   ]
  },
  {
   "cell_type": "code",
   "execution_count": 349,
   "metadata": {},
   "outputs": [],
   "source": [
    "# aa = []\n",
    "for x in fragment:\n",
    "    for y in full:\n",
    "        a = re.findall(f\"C{x}.\",y)\n",
    "        if a:\n",
    "            a, b = re.findall(f\"(.+){x}(.+)\",y)[0]\n",
    "            aa.append([\">10\", a, x, b])"
   ]
  },
  {
   "cell_type": "code",
   "execution_count": 352,
   "metadata": {},
   "outputs": [],
   "source": [
    "df = pd.DataFrame(aa)"
   ]
  },
  {
   "cell_type": "code",
   "execution_count": 377,
   "metadata": {},
   "outputs": [
    {
     "name": "stdout",
     "output_type": "stream",
     "text": [
      "ok\n"
     ]
    }
   ],
   "source": [
    "if not []:\n",
    "    print(\"ok\")"
   ]
  },
  {
   "cell_type": "code",
   "execution_count": 3,
   "metadata": {},
   "outputs": [],
   "source": [
    "member_cutoff = 3"
   ]
  },
  {
   "cell_type": "code",
   "execution_count": 73,
   "metadata": {},
   "outputs": [],
   "source": [
    "df = pd.read_csv(\"Clones.txt\", sep=\"\\s+\")\n",
    "subset = df[df[\"#Members\"] <= member_cutoff]\n",
    "CloneIDs = subset[\"CloneID\"].tolist()"
   ]
  },
  {
   "cell_type": "code",
   "execution_count": 74,
   "metadata": {},
   "outputs": [
    {
     "data": {
      "text/plain": [
       "[4, 6, 8, 17]"
      ]
     },
     "execution_count": 74,
     "metadata": {},
     "output_type": "execute_result"
    }
   ],
   "source": [
    "CloneIDs"
   ]
  },
  {
   "cell_type": "code",
   "execution_count": 86,
   "metadata": {},
   "outputs": [],
   "source": [
    "clone_id = 8"
   ]
  },
  {
   "cell_type": "code",
   "execution_count": 87,
   "metadata": {},
   "outputs": [],
   "source": [
    "df = pd.read_csv(\"CloneAssignments.txt\", sep=\"\\s+\")\n",
    "subset = df[df.CloneID==clone_id]\n",
    "ReadIDs = subset.ReadID.tolist()\n",
    "CDR3s = subset.CDR3.tolist()\n",
    "CDR3Lengths = subset[\"CDR3Length\"].tolist()"
   ]
  },
  {
   "cell_type": "code",
   "execution_count": 88,
   "metadata": {},
   "outputs": [],
   "source": [
    "with open(\"SimpleMarkedUAs.fasta\") as f:\n",
    "    ua = f.readlines()"
   ]
  },
  {
   "cell_type": "code",
   "execution_count": 95,
   "metadata": {},
   "outputs": [
    {
     "data": {
      "text/plain": [
       "['s8v1-152', 's8v1-169', 's8v1-174', 's8v2-81', 's8v2-7']"
      ]
     },
     "execution_count": 95,
     "metadata": {},
     "output_type": "execute_result"
    }
   ],
   "source": [
    "ReadIDs"
   ]
  },
  {
   "cell_type": "code",
   "execution_count": 106,
   "metadata": {},
   "outputs": [],
   "source": [
    "id = ReadIDs[4]\n",
    "cdr3seq = CDR3s[4]"
   ]
  },
  {
   "cell_type": "code",
   "execution_count": 114,
   "metadata": {},
   "outputs": [],
   "source": [
    "for ids, sequences in zip(ua[::6], ua[1::6]):\n",
    "    if id == ids.rstrip()[1:]:\n",
    "        seq = sequences\n",
    "        break"
   ]
  },
  {
   "cell_type": "code",
   "execution_count": 98,
   "metadata": {},
   "outputs": [],
   "source": [
    "fragment = expasy(cdr3seq)\n",
    "fragment = fragment.split(\"\\n\")[1::2]\n",
    "fragment = [x for x in fragment if \"-\" not in x]"
   ]
  },
  {
   "cell_type": "code",
   "execution_count": 99,
   "metadata": {},
   "outputs": [],
   "source": [
    "full = expasy(seq)\n",
    "full = full.split(\"\\n\")[1::2]"
   ]
  },
  {
   "cell_type": "code",
   "execution_count": 100,
   "metadata": {},
   "outputs": [],
   "source": [
    "for x in fragment:\n",
    "    for y in full:\n",
    "        a = re.findall(f\"C{x}W\",y)\n",
    "        if a:\n",
    "            print(a)\n",
    "            print(x)\n",
    "            print(y)"
   ]
  },
  {
   "cell_type": "code",
   "execution_count": 110,
   "metadata": {},
   "outputs": [
    {
     "data": {
      "text/plain": [
       "'s8v2-7'"
      ]
     },
     "execution_count": 110,
     "metadata": {},
     "output_type": "execute_result"
    }
   ],
   "source": [
    "id"
   ]
  },
  {
   "cell_type": "code",
   "execution_count": 108,
   "metadata": {},
   "outputs": [
    {
     "data": {
      "text/plain": [
       "'GCGAGAGATACGATTCAGGGAGTTGTAACCTTGACACAGAAACCCTCTGACTTC'"
      ]
     },
     "execution_count": 108,
     "metadata": {},
     "output_type": "execute_result"
    }
   ],
   "source": [
    "cdr3seq\n",
    "GCGAGAGATACGATTCAGGGAGTTGTAACCTTGACACAGAAACCCTCTGACTTC  "
   ]
  },
  {
   "cell_type": "code",
   "execution_count": 109,
   "metadata": {},
   "outputs": [
    {
     "data": {
      "text/plain": [
       "'GAGGTGCAGCTGGTGCAGTCTGGGGCTGAGGTGAAGAAGCCTGGGGCCTCAGTGAAGGTCTCCTGCAAGGCTTCTGGATACTTCTTCACCACTTATGATATCCATTGGGTGCGACAGACCACTGGACAAGGGCTTGAGTGGATGGGATGGATGAACCCTAACAGTGGTAAAACTGGCTATGCACAGAAGTTCCAGGGCAGAGTCGCCATGACCGGGGACACCTCCATAAGCACAGCCTACATGGAACTGAGCAGCCTCAGATCTGAGGACACGGCCGTGTATTATTGTGTGAGAGGCGACCGAGCGGCTGCCCCCTACTGGGGCCAGGGAACCCTGATCACCGTCTCCTCAG\\n'"
      ]
     },
     "execution_count": 109,
     "metadata": {},
     "output_type": "execute_result"
    }
   ],
   "source": [
    "seq"
   ]
  }
 ],
 "metadata": {
  "kernelspec": {
   "display_name": "Python 3.10.4 ('csun')",
   "language": "python",
   "name": "python3"
  },
  "language_info": {
   "codemirror_mode": {
    "name": "ipython",
    "version": 3
   },
   "file_extension": ".py",
   "mimetype": "text/x-python",
   "name": "python",
   "nbconvert_exporter": "python",
   "pygments_lexer": "ipython3",
   "version": "3.10.4"
  },
  "orig_nbformat": 4,
  "vscode": {
   "interpreter": {
    "hash": "9a7d021f8d018a8c535fbed3f18f4d679c33c36c63a10daff14b183c8d87f55e"
   }
  }
 },
 "nbformat": 4,
 "nbformat_minor": 2
}
