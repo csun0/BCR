{
 "cells": [
  {
   "cell_type": "code",
   "execution_count": 2,
   "metadata": {},
   "outputs": [],
   "source": [
    "import re\n",
    "import numpy as np\n",
    "import os\n",
    "import subprocess\n",
    "import pandas as pd"
   ]
  },
  {
   "cell_type": "code",
   "execution_count": null,
   "metadata": {},
   "outputs": [],
   "source": [
    "def expasy(seq):\n",
    "    cmd = f\"curl -s -d 'dna_sequence={seq}&output_format=fasta' https://web.expasy.org/cgi-bin/translate/dna2aa.cgi\"\n",
    "    output = subprocess.run(cmd, shell=True, capture_output=True, text=True)\n",
    "    temp = output.stdout.split(\"\\n\")\n",
    "    temp = [_.rstrip() for _ in temp]\n",
    "    temp = [f\"\\n{_}\\n\" if \">\" in _ else _ for _ in temp ]\n",
    "    temp[0] = temp[0].replace(\"\\n\", \"\", 1)\n",
    "    temp[-1] += \"\\n\"\n",
    "    temp = \"\".join(temp)\n",
    "\n",
    "    return temp"
   ]
  },
  {
   "cell_type": "code",
   "execution_count": 3,
   "metadata": {},
   "outputs": [],
   "source": [
    "member_cutoff = 3"
   ]
  },
  {
   "cell_type": "code",
   "execution_count": 73,
   "metadata": {},
   "outputs": [],
   "source": [
    "df = pd.read_csv(\"Clones.txt\", sep=\"\\s+\")\n",
    "subset = df[df[\"#Members\"] >= member_cutoff]\n",
    "CloneIDs = subset[\"CloneID\"].tolist()"
   ]
  },
  {
   "cell_type": "code",
   "execution_count": 74,
   "metadata": {},
   "outputs": [
    {
     "data": {
      "text/plain": [
       "[4, 6, 8, 17]"
      ]
     },
     "execution_count": 74,
     "metadata": {},
     "output_type": "execute_result"
    }
   ],
   "source": [
    "CloneIDs"
   ]
  },
  {
   "cell_type": "code",
   "execution_count": 85,
   "metadata": {},
   "outputs": [],
   "source": [
    "clone_id = 17"
   ]
  },
  {
   "cell_type": "code",
   "execution_count": 77,
   "metadata": {},
   "outputs": [],
   "source": [
    "df = pd.read_csv(\"CloneAssignments.txt\", sep=\"\\s+\")\n",
    "subset = df[df.CloneID==clone_id]\n",
    "ReadIDs = subset.ReadID.tolist()\n",
    "CDR3s = subset.CDR3.tolist()\n",
    "CDR3Lengths = subset[\"CDR3Length\"].tolist()"
   ]
  },
  {
   "cell_type": "code",
   "execution_count": 78,
   "metadata": {},
   "outputs": [],
   "source": [
    "with open(\"SimpleMarkedUAs.fasta\") as f:\n",
    "    ua = f.readlines()"
   ]
  },
  {
   "cell_type": "code",
   "execution_count": 79,
   "metadata": {},
   "outputs": [],
   "source": [
    "id = ReadIDs[1]\n",
    "cdr3seq = CDR3s[1]"
   ]
  },
  {
   "cell_type": "code",
   "execution_count": 80,
   "metadata": {},
   "outputs": [],
   "source": [
    "for ids, sequences in zip(ua[::6], ua[1::6]):\n",
    "    if id in ids:\n",
    "        seq = sequences\n",
    "        break"
   ]
  },
  {
   "cell_type": "code",
   "execution_count": 81,
   "metadata": {},
   "outputs": [],
   "source": [
    "fragment = expasy(cdr3seq)\n",
    "fragment = fragment.split(\"\\n\")[1::2]\n",
    "fragment = [x for x in fragment if \"-\" not in x]"
   ]
  },
  {
   "cell_type": "code",
   "execution_count": 82,
   "metadata": {},
   "outputs": [],
   "source": [
    "full = expasy(seq)\n",
    "full = full.split(\"\\n\")[1::2]"
   ]
  },
  {
   "cell_type": "code",
   "execution_count": 83,
   "metadata": {},
   "outputs": [],
   "source": [
    "fragment = [x for x in fragment if \"-\" not in x]"
   ]
  },
  {
   "cell_type": "code",
   "execution_count": 84,
   "metadata": {},
   "outputs": [
    {
     "name": "stdout",
     "output_type": "stream",
     "text": [
      "['CARDHPQGIVVLPGSAIPFDPW']\n",
      "ARDHPQGIVVLPGSAIPFDP\n",
      "EVQLVQSGAEVKKPGASVKVSCKASGYTFSSSGISWVRQAPGQGFEWMGWISAYTGDTKYSQKFQGRVTMTTDTSTTTVYMELRSLKSDDTAVYYCARDHPQGIVVLPGSAIPFDPWGQGTLVTVSS\n"
     ]
    }
   ],
   "source": [
    "for x in fragment:\n",
    "    for y in full:\n",
    "        a = re.findall(f\"C{x}W\",y)\n",
    "        if a:\n",
    "            print(a)\n",
    "            print(x)\n",
    "            print(y)"
   ]
  }
 ],
 "metadata": {
  "kernelspec": {
   "display_name": "Python 3.10.4 ('csun')",
   "language": "python",
   "name": "python3"
  },
  "language_info": {
   "codemirror_mode": {
    "name": "ipython",
    "version": 3
   },
   "file_extension": ".py",
   "mimetype": "text/x-python",
   "name": "python",
   "nbconvert_exporter": "python",
   "pygments_lexer": "ipython3",
   "version": "3.10.4"
  },
  "orig_nbformat": 4,
  "vscode": {
   "interpreter": {
    "hash": "9a7d021f8d018a8c535fbed3f18f4d679c33c36c63a10daff14b183c8d87f55e"
   }
  }
 },
 "nbformat": 4,
 "nbformat_minor": 2
}
