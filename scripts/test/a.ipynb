{
 "cells": [
  {
   "cell_type": "code",
   "execution_count": 4,
   "metadata": {},
   "outputs": [],
   "source": [
    "import re\n",
    "import numpy as np\n",
    "import os\n",
    "import subprocess\n",
    "import pandas as pd\n",
    "import pathlib"
   ]
  },
  {
   "cell_type": "code",
   "execution_count": 263,
   "metadata": {},
   "outputs": [
    {
     "name": "stdout",
     "output_type": "stream",
     "text": [
      "chunk\n",
      "chunk\n",
      "chunk\n",
      "chunk\n",
      "chunk\n"
     ]
    }
   ],
   "source": [
    "filename = \"a\"\n",
    "with open(f\"{filename}\", 'r+') as f:\n",
    "    temp = f.read()\n",
    "\n",
    "sequences = ['>' + i for i in temp.split('>')][1:]\n",
    "with open(\"_heavy.fas\", 'w+') as f:\n",
    "    for chunk in sequences:\n",
    "        temp = chunk.split('\\n')\n",
    "        id = temp[0]\n",
    "        seq = \"\".join(temp[1::2]).replace(\" \", \"\")\n",
    "        aa = \"\".join(temp[2::2]).replace(\" \", \"\")\n",
    "        f.write(f\"{id}\\n\")\n",
    "        f.write(f\"{seq}\\n\")"
   ]
  }
 ],
 "metadata": {
  "kernelspec": {
   "display_name": "Python 3.10.4 ('csun')",
   "language": "python",
   "name": "python3"
  },
  "language_info": {
   "codemirror_mode": {
    "name": "ipython",
    "version": 3
   },
   "file_extension": ".py",
   "mimetype": "text/x-python",
   "name": "python",
   "nbconvert_exporter": "python",
   "pygments_lexer": "ipython3",
   "version": "3.10.4"
  },
  "orig_nbformat": 4,
  "vscode": {
   "interpreter": {
    "hash": "9a7d021f8d018a8c535fbed3f18f4d679c33c36c63a10daff14b183c8d87f55e"
   }
  }
 },
 "nbformat": 4,
 "nbformat_minor": 2
}
