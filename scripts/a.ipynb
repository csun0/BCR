{
 "cells": [
  {
   "cell_type": "code",
   "execution_count": 1,
   "metadata": {},
   "outputs": [],
   "source": [
    "import re\n",
    "import numpy\n",
    "import os"
   ]
  },
  {
   "cell_type": "code",
   "execution_count": 7,
   "metadata": {},
   "outputs": [],
   "source": [
    "with open('../formatted/S8_subset/solo_H/RecombinationSummaries.txt') as f:\n",
    "    temp = f.read()"
   ]
  },
  {
   "cell_type": "code",
   "execution_count": 9,
   "metadata": {},
   "outputs": [
    {
     "data": {
      "text/plain": [
       "'UID\\tVGene\\tProbVAllele\\tProbVGene\\tProbVFam\\tDGene\\tProbDAllele\\tProbDGene\\tProbDFam\\tJGene\\tProbJAllele\\tProbJFam\\tRV\\tRD1\\tRD2\\tRJ\\tCDR3\\tCDR3Length\\tCDR3ReadFrame\\tnVDNs\\tnDJNs\\tAA@Cys1\\tAA@Cys2\\tAA@JInvRes\\t#VBases\\t#VSubstitutions\\t#VInsertions\\t#VDeletions\\tMuFreq\\tMDL\\ns8v1-137 (H)\\tIGHV4-59*01\\t1\\t1\\t1\\tIGHD2-8*02\\t0.212107967417308\\t0.41269994613938\\t0.99982628049507\\tIGHJ6*02\\t0.997325729821441\\t1\\t2\\t2\\t21\\t11\\tGCGAGACATGATGTTGTTTTTGGAGAGGGGTGGTACTACGGTTTGGACATC\\t51\\t0\\t3\\t16\\tC\\tC\\tW\\t285\\t16\\t0\\t0\\t0.056140350877193\\t-214.317507897869\\ns8v1-144 (H)\\tIGHV4-59*01\\t0.996340458131582\\t1\\t1\\tIGHD2-2*03\\t0.329116379614721\\t0.987349138844163\\t1\\tIGHJ6*02\\t1\\t1\\t-1\\t2\\t16\\t11\\tGCGAGAGATGATATTGTAGTAGGAGAGGGGTGGTACAACGGCATGGACGTC\\t51\\t0\\t0\\t11\\tC\\tC\\tW\\t285\\t12\\t0\\t0\\t0.0421052631578947\\t-193.033066994092\\ns8v1-172 (H)\\tIGHV4-59*01\\t1\\t1\\t1\\tIGHD3-10*01\\t1\\t1\\t1\\tIGHJ6*02\\t1\\t1\\t2\\t8\\t17\\t15\\tGCGAGACTTTCGATGGTTAAGGGGGAGGGGTGGTTCGACGGTTTGGACGTC\\t51\\t0\\t6\\t19\\tC\\tC\\tW\\t285\\t21\\t0\\t0\\t0.0736842105263158\\t-364.1126208559\\ns8v2-67 (H)\\tIGHV4-59*01\\t0.999999999999999\\t0.999999999999999\\t0.999999999999999\\tIGHD2-2*03\\t0.999999999999999\\t0.999999999999999\\t0.999999999999999\\tIGHJ6*02\\t0.999999999999999\\t0.999999999999999\\t-1\\t2\\t16\\t11\\tGCGAGAGATGACATTGTAATAGGAGAGGGGTGGTACCACGGTATGGACCTC\\t51\\t0\\t0\\t11\\tC\\tC\\tW\\t284\\t14\\t0\\t0\\t0.0492957746478873\\t-208.286101097827\\n'"
      ]
     },
     "execution_count": 9,
     "metadata": {},
     "output_type": "execute_result"
    }
   ],
   "source": [
    "temp.replace('No D', 'No_D')"
   ]
  },
  {
   "cell_type": "code",
   "execution_count": 6,
   "metadata": {},
   "outputs": [
    {
     "data": {
      "text/plain": [
       "'ReadID\\tCloneID\\tCDR3\\tCDR3Length\\tCDR3Mismatches\\tVMuFreq\\ns8v1-137 (H)\\t0\\tGCGAGACATGATGTTGTTTTTGGAGAGGGGTGGTACTACGGTTTGGACATC\\t51\\t2.9389830508475\\t0.0576271186440678\\ns8v1-144 (H)\\t0\\tGCGAGAGATGATATTGTAGTAGGAGAGGGGTGGTACAACGGCATGGACGTC\\t51\\t11.3166101694916\\t0.0440677966101695\\ns8v1-172 (H)\\t0\\tGCGAGACTTTCGATGGTTAAGGGGGAGGGGTGGTTCGACGGTTTGGACGTC\\t51\\t15.0400000000001\\t0.0745762711864407\\ns8v2-67 (H)\\t0\\tGCGAGAGATGACATTGTAATAGGAGAGGGGTGGTACCACGGTATGGACCTC\\t51\\t11.3166101694916\\t0.0510204081632653\\n'"
      ]
     },
     "execution_count": 6,
     "metadata": {},
     "output_type": "execute_result"
    }
   ],
   "source": [
    "temp"
   ]
  }
 ],
 "metadata": {
  "kernelspec": {
   "display_name": "Python 3.10.4 ('csun')",
   "language": "python",
   "name": "python3"
  },
  "language_info": {
   "codemirror_mode": {
    "name": "ipython",
    "version": 3
   },
   "file_extension": ".py",
   "mimetype": "text/x-python",
   "name": "python",
   "nbconvert_exporter": "python",
   "pygments_lexer": "ipython3",
   "version": "3.10.4"
  },
  "orig_nbformat": 4,
  "vscode": {
   "interpreter": {
    "hash": "9a7d021f8d018a8c535fbed3f18f4d679c33c36c63a10daff14b183c8d87f55e"
   }
  }
 },
 "nbformat": 4,
 "nbformat_minor": 2
}
