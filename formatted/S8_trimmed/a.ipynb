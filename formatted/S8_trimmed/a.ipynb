{
 "cells": [
  {
   "cell_type": "code",
   "execution_count": 1,
   "metadata": {},
   "outputs": [],
   "source": [
    "import re\n",
    "import numpy as np\n",
    "import os\n",
    "import subprocess\n",
    "import pandas as pd\n",
    "import pathlib"
   ]
  },
  {
   "cell_type": "code",
   "execution_count": 8,
   "metadata": {},
   "outputs": [],
   "source": [
    "def expasy_query(seq):\n",
    "    cmd = f\"curl -s -d 'dna_sequence={seq}&output_format=fasta' https://web.expasy.org/cgi-bin/translate/dna2aa.cgi\"\n",
    "    output = subprocess.run(cmd, shell=True, capture_output=True, text=True)\n",
    "    temp = output.stdout.split(\"\\n\")\n",
    "    temp = [_.rstrip() for _ in temp]\n",
    "    temp = [f\"\\n{_}\\n\" if \">\" in _ else _ for _ in temp]\n",
    "    temp[0] = temp[0].replace(\"\\n\", \"\", 1)\n",
    "    temp[-1] += \"\\n\"\n",
    "    temp = \"\".join(temp)\n",
    "\n",
    "    return temp"
   ]
  },
  {
   "cell_type": "code",
   "execution_count": 5,
   "metadata": {},
   "outputs": [],
   "source": [
    "ok = expasy_query(\"ccaggtgcagctgcaggagtcgggcccaggattggtgaagccttcggagaccctgtgcctcagctgcactgtctctggtggctccctcagaacttcccactggagctggatccggcagcccccagggaagggactggaatggattggggatatctataacagtgggagtaccaactacaacccctccctcaagagtcgagtcaccatatcagtagacacgtccaagaatcagttctccctgaacctgacctctgtgaccgctgcggacacggccgtgtattactgcgcgagacatgatgttgtttttggagaggggtggtactacggtttggacatctggggccaagggaccacggtcaccgtctcctca\")"
   ]
  },
  {
   "cell_type": "code",
   "execution_count": 9,
   "metadata": {},
   "outputs": [
    {
     "name": "stdout",
     "output_type": "stream",
     "text": [
      "> VIRT-25028:3'5' Frame 1\n",
      "-GDGDRGPLAPDVQTVVPPLSKNNIMSRAVIHGRVRSGHRGQVQGELILGRVY-YGDSTLEGGVVVGTPTVIDIPNPFQSLPWGLPDPAPVGSSEGATRDSAAEAQGLRRLHQSWARLLQLHL\n",
      "> VIRT-25028:3'5' Frame 2\n",
      "EETVTVVPWPQMSKP-YHPSPKTTSCLAQ-YTAVSAAVTEVRFREN-FLDVSTDMVTRLLREGL-LVLPLL-ISPIHSSPFPGGCRIQLQWEVLREPPETVQLRHRVSEGFTNPGPDSCSCTW\n",
      "> VIRT-25028:3'5' Frame 3\n",
      "RRR-PWSLGPRCPNRSTTPLQKQHHVSRSNTRPCPQRSQRSGSGRTDSWTCLLIW-LDS-GRGCSWYSHCYRYPQSIPVPSLGAAGSSSSGKF-GSHQRQCS-GTGSPKASPILGPTPAAAP\n",
      "> VIRT-25028:5'3' Frame 1\n",
      "PGAAAGVGPRIGEAFGDPVPQLHCLWWLPQNFPLELDPAAPREGTGMDWGYL-QWEYQLQPLPQESSHHISRHVQESVLPEPDLCDRCGHGRVLLRET-CCFWRGVVLRFGHLGPRDHGHRLL\n",
      "> VIRT-25028:5'3' Frame 2\n",
      "QVQLQESGPGLVKPSETLCLSCTVSGGSLRTSHWSWIRQPPGKGLEWIGDIYNSGSTNYNPSLKSRVTISVDTSKNQFSLNLTSVTAADTAVYYCARHDVVFGEGWYYGLDIWGQGTTVTVSS\n",
      "> VIRT-25028:5'3' Frame 3\n",
      "RCSCRSRAQDW-SLRRPCASAALSLVAPSELPTGAGSGSPQGRDWNGLGISITVGVPTTTPPSRVESPYQ-TRPRISSP-T-PL-PLRTRPCITARDMMLFLERGGTTVWTSGAKGPRSPSP\n",
      "\n"
     ]
    }
   ],
   "source": [
    "print(ok)"
   ]
  },
  {
   "cell_type": "code",
   "execution_count": 10,
   "metadata": {},
   "outputs": [],
   "source": [
    "import textwrap"
   ]
  },
  {
   "cell_type": "code",
   "execution_count": 12,
   "metadata": {},
   "outputs": [
    {
     "data": {
      "text/plain": [
       "['AA', 'AA', 'AA', 'Ag', 's']"
      ]
     },
     "execution_count": 12,
     "metadata": {},
     "output_type": "execute_result"
    }
   ],
   "source": [
    "textwrap.wrap(\"AAAAAAAgs\", 2)"
   ]
  },
  {
   "cell_type": "code",
   "execution_count": 13,
   "metadata": {},
   "outputs": [],
   "source": [
    "filename = \"a\"\n",
    "with open(f\"{filename}\", 'r+') as f:\n",
    "    temp = f.read()\n",
    "\n",
    "sequences = ['>' + i for i in temp.split('>')][1:]\n",
    "with open(\"_light.fas\", 'w+') as f:\n",
    "    for chunk in sequences:\n",
    "        temp = chunk.split('\\n')\n",
    "        id = temp[0]\n",
    "        seq = \"\".join(temp[1::2]).replace(\" \", \"\")\n",
    "        aa = \"\".join(temp[2::2]).replace(\" \", \"\")\n",
    "        f.write(f\"{id}\\n\")\n",
    "        f.write(f\"{seq}\\n\")"
   ]
  }
 ],
 "metadata": {
  "kernelspec": {
   "display_name": "Python 3.10.4 ('csun')",
   "language": "python",
   "name": "python3"
  },
  "language_info": {
   "codemirror_mode": {
    "name": "ipython",
    "version": 3
   },
   "file_extension": ".py",
   "mimetype": "text/x-python",
   "name": "python",
   "nbconvert_exporter": "python",
   "pygments_lexer": "ipython3",
   "version": "3.10.4"
  },
  "orig_nbformat": 4,
  "vscode": {
   "interpreter": {
    "hash": "9a7d021f8d018a8c535fbed3f18f4d679c33c36c63a10daff14b183c8d87f55e"
   }
  }
 },
 "nbformat": 4,
 "nbformat_minor": 2
}
